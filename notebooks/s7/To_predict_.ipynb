{
 "cells": [
  {
   "cell_type": "code",
   "execution_count": 2,
   "metadata": {
    "id": "xwFyEsosINqT"
   },
   "outputs": [],
   "source": [
    "import numpy as np\n",
    "import pandas as pd"
   ]
  },
  {
   "cell_type": "code",
   "execution_count": 4,
   "metadata": {
    "id": "pKewSQysItJ-"
   },
   "outputs": [],
   "source": [
    "# https://www.statsmodels.org/stable/index.html\n",
    "import statsmodels.api as sm"
   ]
  },
  {
   "cell_type": "code",
   "execution_count": 6,
   "metadata": {},
   "outputs": [],
   "source": [
    "import warnings\n",
    "warnings.filterwarnings(\"ignore\")"
   ]
  },
  {
   "cell_type": "code",
   "execution_count": 8,
   "metadata": {},
   "outputs": [],
   "source": [
    "from functools import partial"
   ]
  },
  {
   "cell_type": "code",
   "execution_count": 10,
   "metadata": {},
   "outputs": [
    {
     "name": "stdout",
     "output_type": "stream",
     "text": [
      "envs Loaded\n",
      "Pinged your deployment. You successfully connected to MongoDB!\n"
     ]
    }
   ],
   "source": [
    "from dotenv import load_dotenv\n",
    "\n",
    "from pathlib import Path\n",
    "\n",
    "env_path = Path(\"../../.env-live\")\n",
    "\n",
    "if env_path.exists():\n",
    "    print('envs Loaded')\n",
    "    load_dotenv(dotenv_path=env_path)\n",
    "from jrjModelRegistry.jrjModelRegistry import registerAJrjModel"
   ]
  },
  {
   "cell_type": "code",
   "execution_count": 11,
   "metadata": {
    "id": "Lz-DyAtNWsJR"
   },
   "outputs": [],
   "source": [
    "# Download Dataset from https://www.dropbox.com/scl/fi/v7c1c8a3cnncuv1fo28es/Wages.xlsx?rlkey=vli12nwph687hvn9jskgf73a1&st=s862pfm6&dl=1\n",
    "# and add it to colab"
   ]
  },
  {
   "cell_type": "code",
   "execution_count": 12,
   "metadata": {
    "id": "0zM8FGMJXJ70"
   },
   "outputs": [],
   "source": [
    "wagesDf = pd.read_excel(\"./Wages.xlsx\")\n",
    "# wagesDf = pd.read_excel(\"https://www.dropbox.com/scl/fi/v7c1c8a3cnncuv1fo28es/Wages.xlsx?rlkey=vli12nwph687hvn9jskgf73a1&st=s862pfm6&dl=1\")"
   ]
  },
  {
   "cell_type": "code",
   "execution_count": 16,
   "metadata": {
    "colab": {
     "base_uri": "https://localhost:8080/",
     "height": 423
    },
    "id": "wsIgDGYcXT_z",
    "outputId": "1e9c9629-469e-4396-fc87-b889fad3be7c"
   },
   "outputs": [
    {
     "data": {
      "text/html": [
       "<div>\n",
       "<style scoped>\n",
       "    .dataframe tbody tr th:only-of-type {\n",
       "        vertical-align: middle;\n",
       "    }\n",
       "\n",
       "    .dataframe tbody tr th {\n",
       "        vertical-align: top;\n",
       "    }\n",
       "\n",
       "    .dataframe thead th {\n",
       "        text-align: right;\n",
       "    }\n",
       "</style>\n",
       "<table border=\"1\" class=\"dataframe\">\n",
       "  <thead>\n",
       "    <tr style=\"text-align: right;\">\n",
       "      <th></th>\n",
       "      <th>Wage</th>\n",
       "      <th>Educ</th>\n",
       "      <th>Age</th>\n",
       "    </tr>\n",
       "  </thead>\n",
       "  <tbody>\n",
       "    <tr>\n",
       "      <th>0</th>\n",
       "      <td>17.54</td>\n",
       "      <td>12</td>\n",
       "      <td>76</td>\n",
       "    </tr>\n",
       "    <tr>\n",
       "      <th>1</th>\n",
       "      <td>20.93</td>\n",
       "      <td>10</td>\n",
       "      <td>61</td>\n",
       "    </tr>\n",
       "    <tr>\n",
       "      <th>2</th>\n",
       "      <td>12.94</td>\n",
       "      <td>8</td>\n",
       "      <td>75</td>\n",
       "    </tr>\n",
       "    <tr>\n",
       "      <th>3</th>\n",
       "      <td>19.34</td>\n",
       "      <td>6</td>\n",
       "      <td>38</td>\n",
       "    </tr>\n",
       "    <tr>\n",
       "      <th>4</th>\n",
       "      <td>24.12</td>\n",
       "      <td>12</td>\n",
       "      <td>59</td>\n",
       "    </tr>\n",
       "    <tr>\n",
       "      <th>...</th>\n",
       "      <td>...</td>\n",
       "      <td>...</td>\n",
       "      <td>...</td>\n",
       "    </tr>\n",
       "    <tr>\n",
       "      <th>75</th>\n",
       "      <td>25.64</td>\n",
       "      <td>14</td>\n",
       "      <td>74</td>\n",
       "    </tr>\n",
       "    <tr>\n",
       "      <th>76</th>\n",
       "      <td>38.77</td>\n",
       "      <td>21</td>\n",
       "      <td>41</td>\n",
       "    </tr>\n",
       "    <tr>\n",
       "      <th>77</th>\n",
       "      <td>21.87</td>\n",
       "      <td>15</td>\n",
       "      <td>75</td>\n",
       "    </tr>\n",
       "    <tr>\n",
       "      <th>78</th>\n",
       "      <td>27.54</td>\n",
       "      <td>20</td>\n",
       "      <td>46</td>\n",
       "    </tr>\n",
       "    <tr>\n",
       "      <th>79</th>\n",
       "      <td>23.66</td>\n",
       "      <td>12</td>\n",
       "      <td>49</td>\n",
       "    </tr>\n",
       "  </tbody>\n",
       "</table>\n",
       "<p>80 rows × 3 columns</p>\n",
       "</div>"
      ],
      "text/plain": [
       "     Wage  Educ  Age\n",
       "0   17.54    12   76\n",
       "1   20.93    10   61\n",
       "2   12.94     8   75\n",
       "3   19.34     6   38\n",
       "4   24.12    12   59\n",
       "..    ...   ...  ...\n",
       "75  25.64    14   74\n",
       "76  38.77    21   41\n",
       "77  21.87    15   75\n",
       "78  27.54    20   46\n",
       "79  23.66    12   49\n",
       "\n",
       "[80 rows x 3 columns]"
      ]
     },
     "execution_count": 16,
     "metadata": {},
     "output_type": "execute_result"
    }
   ],
   "source": [
    "wagesDf"
   ]
  },
  {
   "cell_type": "code",
   "execution_count": 18,
   "metadata": {
    "colab": {
     "base_uri": "https://localhost:8080/"
    },
    "id": "nw2BHv7PmpVU",
    "outputId": "9ee3724b-4412-4df1-a1d2-8b993e770e51"
   },
   "outputs": [
    {
     "data": {
      "text/plain": [
       "240"
      ]
     },
     "execution_count": 18,
     "metadata": {},
     "output_type": "execute_result"
    }
   ],
   "source": [
    "wagesDf.size"
   ]
  },
  {
   "cell_type": "code",
   "execution_count": 20,
   "metadata": {
    "colab": {
     "base_uri": "https://localhost:8080/",
     "height": 300
    },
    "id": "mWaKOoGvmrE8",
    "outputId": "cccdab80-188e-4398-a0da-34bf5f3afff3"
   },
   "outputs": [
    {
     "data": {
      "text/html": [
       "<div>\n",
       "<style scoped>\n",
       "    .dataframe tbody tr th:only-of-type {\n",
       "        vertical-align: middle;\n",
       "    }\n",
       "\n",
       "    .dataframe tbody tr th {\n",
       "        vertical-align: top;\n",
       "    }\n",
       "\n",
       "    .dataframe thead th {\n",
       "        text-align: right;\n",
       "    }\n",
       "</style>\n",
       "<table border=\"1\" class=\"dataframe\">\n",
       "  <thead>\n",
       "    <tr style=\"text-align: right;\">\n",
       "      <th></th>\n",
       "      <th>Wage</th>\n",
       "      <th>Educ</th>\n",
       "      <th>Age</th>\n",
       "    </tr>\n",
       "  </thead>\n",
       "  <tbody>\n",
       "    <tr>\n",
       "      <th>count</th>\n",
       "      <td>80.000000</td>\n",
       "      <td>80.000000</td>\n",
       "      <td>80.000000</td>\n",
       "    </tr>\n",
       "    <tr>\n",
       "      <th>mean</th>\n",
       "      <td>24.930500</td>\n",
       "      <td>13.850000</td>\n",
       "      <td>49.487500</td>\n",
       "    </tr>\n",
       "    <tr>\n",
       "      <th>std</th>\n",
       "      <td>7.479982</td>\n",
       "      <td>4.016107</td>\n",
       "      <td>17.213473</td>\n",
       "    </tr>\n",
       "    <tr>\n",
       "      <th>min</th>\n",
       "      <td>6.930000</td>\n",
       "      <td>6.000000</td>\n",
       "      <td>18.000000</td>\n",
       "    </tr>\n",
       "    <tr>\n",
       "      <th>25%</th>\n",
       "      <td>19.145000</td>\n",
       "      <td>10.000000</td>\n",
       "      <td>34.750000</td>\n",
       "    </tr>\n",
       "    <tr>\n",
       "      <th>50%</th>\n",
       "      <td>24.980000</td>\n",
       "      <td>14.000000</td>\n",
       "      <td>51.000000</td>\n",
       "    </tr>\n",
       "    <tr>\n",
       "      <th>75%</th>\n",
       "      <td>30.572500</td>\n",
       "      <td>17.000000</td>\n",
       "      <td>65.250000</td>\n",
       "    </tr>\n",
       "    <tr>\n",
       "      <th>max</th>\n",
       "      <td>43.440000</td>\n",
       "      <td>22.000000</td>\n",
       "      <td>77.000000</td>\n",
       "    </tr>\n",
       "  </tbody>\n",
       "</table>\n",
       "</div>"
      ],
      "text/plain": [
       "            Wage       Educ        Age\n",
       "count  80.000000  80.000000  80.000000\n",
       "mean   24.930500  13.850000  49.487500\n",
       "std     7.479982   4.016107  17.213473\n",
       "min     6.930000   6.000000  18.000000\n",
       "25%    19.145000  10.000000  34.750000\n",
       "50%    24.980000  14.000000  51.000000\n",
       "75%    30.572500  17.000000  65.250000\n",
       "max    43.440000  22.000000  77.000000"
      ]
     },
     "execution_count": 20,
     "metadata": {},
     "output_type": "execute_result"
    }
   ],
   "source": [
    "wagesDf.describe()"
   ]
  },
  {
   "cell_type": "code",
   "execution_count": 22,
   "metadata": {
    "id": "w-fAHOgMmyH5"
   },
   "outputs": [
    {
     "data": {
      "text/plain": [
       "(80, 3)"
      ]
     },
     "execution_count": 22,
     "metadata": {},
     "output_type": "execute_result"
    }
   ],
   "source": [
    "wagesDf.shape"
   ]
  },
  {
   "cell_type": "code",
   "execution_count": 24,
   "metadata": {
    "id": "H15Y1sg61e5Z"
   },
   "outputs": [],
   "source": [
    "import matplotlib.pyplot as plt"
   ]
  },
  {
   "cell_type": "code",
   "execution_count": 26,
   "metadata": {
    "colab": {
     "base_uri": "https://localhost:8080/",
     "height": 34
    },
    "id": "-4_3Xd1i1cPa",
    "outputId": "53e38405-41a6-413e-c038-da8ea474a2b6"
   },
   "outputs": [
    {
     "data": {
      "text/plain": [
       "<Figure size 800x800 with 0 Axes>"
      ]
     },
     "metadata": {},
     "output_type": "display_data"
    }
   ],
   "source": [
    "# Plotting\n",
    "fig1 = plt.figure(\n",
    "  figsize=(8, 8)\n",
    ")"
   ]
  },
  {
   "cell_type": "code",
   "execution_count": 28,
   "metadata": {},
   "outputs": [],
   "source": [
    "def wageModel3Transformer(dataForTransfer = None):\n",
    "    import pandas as pd\n",
    "    import statsmodels.api as sm\n",
    "    if isinstance(dataForTransfer, pd.DataFrame):\n",
    "        df = dataForTransfer.copy()\n",
    "    else:\n",
    "        df = pd.DataFrame(dataForTransfer)\n",
    "    df['agePower2'] = df.apply(lambda row: row['Age'] * row['Age'], axis=1)\n",
    "    dfTransformer = sm.add_constant(df[['Age', 'agePower2']],has_constant='add')\n",
    "    return dfTransformer"
   ]
  },
  {
   "cell_type": "code",
   "execution_count": 30,
   "metadata": {
    "colab": {
     "base_uri": "https://localhost:8080/",
     "height": 423
    },
    "id": "v4CvzLau4TZ6",
    "outputId": "c0337cca-915f-4593-93f2-408f972075a3"
   },
   "outputs": [
    {
     "data": {
      "text/html": [
       "<div>\n",
       "<style scoped>\n",
       "    .dataframe tbody tr th:only-of-type {\n",
       "        vertical-align: middle;\n",
       "    }\n",
       "\n",
       "    .dataframe tbody tr th {\n",
       "        vertical-align: top;\n",
       "    }\n",
       "\n",
       "    .dataframe thead th {\n",
       "        text-align: right;\n",
       "    }\n",
       "</style>\n",
       "<table border=\"1\" class=\"dataframe\">\n",
       "  <thead>\n",
       "    <tr style=\"text-align: right;\">\n",
       "      <th></th>\n",
       "      <th>Wage</th>\n",
       "      <th>Educ</th>\n",
       "      <th>Age</th>\n",
       "      <th>agePower2</th>\n",
       "    </tr>\n",
       "  </thead>\n",
       "  <tbody>\n",
       "    <tr>\n",
       "      <th>0</th>\n",
       "      <td>17.54</td>\n",
       "      <td>12</td>\n",
       "      <td>76</td>\n",
       "      <td>5776.0</td>\n",
       "    </tr>\n",
       "    <tr>\n",
       "      <th>1</th>\n",
       "      <td>20.93</td>\n",
       "      <td>10</td>\n",
       "      <td>61</td>\n",
       "      <td>3721.0</td>\n",
       "    </tr>\n",
       "    <tr>\n",
       "      <th>2</th>\n",
       "      <td>12.94</td>\n",
       "      <td>8</td>\n",
       "      <td>75</td>\n",
       "      <td>5625.0</td>\n",
       "    </tr>\n",
       "    <tr>\n",
       "      <th>3</th>\n",
       "      <td>19.34</td>\n",
       "      <td>6</td>\n",
       "      <td>38</td>\n",
       "      <td>1444.0</td>\n",
       "    </tr>\n",
       "    <tr>\n",
       "      <th>4</th>\n",
       "      <td>24.12</td>\n",
       "      <td>12</td>\n",
       "      <td>59</td>\n",
       "      <td>3481.0</td>\n",
       "    </tr>\n",
       "    <tr>\n",
       "      <th>...</th>\n",
       "      <td>...</td>\n",
       "      <td>...</td>\n",
       "      <td>...</td>\n",
       "      <td>...</td>\n",
       "    </tr>\n",
       "    <tr>\n",
       "      <th>75</th>\n",
       "      <td>25.64</td>\n",
       "      <td>14</td>\n",
       "      <td>74</td>\n",
       "      <td>5476.0</td>\n",
       "    </tr>\n",
       "    <tr>\n",
       "      <th>76</th>\n",
       "      <td>38.77</td>\n",
       "      <td>21</td>\n",
       "      <td>41</td>\n",
       "      <td>1681.0</td>\n",
       "    </tr>\n",
       "    <tr>\n",
       "      <th>77</th>\n",
       "      <td>21.87</td>\n",
       "      <td>15</td>\n",
       "      <td>75</td>\n",
       "      <td>5625.0</td>\n",
       "    </tr>\n",
       "    <tr>\n",
       "      <th>78</th>\n",
       "      <td>27.54</td>\n",
       "      <td>20</td>\n",
       "      <td>46</td>\n",
       "      <td>2116.0</td>\n",
       "    </tr>\n",
       "    <tr>\n",
       "      <th>79</th>\n",
       "      <td>23.66</td>\n",
       "      <td>12</td>\n",
       "      <td>49</td>\n",
       "      <td>2401.0</td>\n",
       "    </tr>\n",
       "  </tbody>\n",
       "</table>\n",
       "<p>80 rows × 4 columns</p>\n",
       "</div>"
      ],
      "text/plain": [
       "     Wage  Educ  Age  agePower2\n",
       "0   17.54    12   76     5776.0\n",
       "1   20.93    10   61     3721.0\n",
       "2   12.94     8   75     5625.0\n",
       "3   19.34     6   38     1444.0\n",
       "4   24.12    12   59     3481.0\n",
       "..    ...   ...  ...        ...\n",
       "75  25.64    14   74     5476.0\n",
       "76  38.77    21   41     1681.0\n",
       "77  21.87    15   75     5625.0\n",
       "78  27.54    20   46     2116.0\n",
       "79  23.66    12   49     2401.0\n",
       "\n",
       "[80 rows x 4 columns]"
      ]
     },
     "execution_count": 30,
     "metadata": {},
     "output_type": "execute_result"
    }
   ],
   "source": [
    "wagesDf['agePower2'] = wageModel3Transformer(wagesDf)['agePower2']\n",
    "wagesDf"
   ]
  },
  {
   "cell_type": "code",
   "execution_count": 32,
   "metadata": {
    "id": "d7cn8Io05ebq"
   },
   "outputs": [],
   "source": [
    "wagesDf = wagesDf.sort_values(by=\"Age\")"
   ]
  },
  {
   "cell_type": "code",
   "execution_count": 34,
   "metadata": {
    "colab": {
     "base_uri": "https://localhost:8080/"
    },
    "id": "Vr9zmJ7L4lEg",
    "outputId": "53ecd500-d0c3-4c20-c008-ad0969e20890"
   },
   "outputs": [
    {
     "name": "stdout",
     "output_type": "stream",
     "text": [
      "                            OLS Regression Results                            \n",
      "==============================================================================\n",
      "Dep. Variable:                   Wage   R-squared:                       0.400\n",
      "Model:                            OLS   Adj. R-squared:                  0.385\n",
      "Method:                 Least Squares   F-statistic:                     25.72\n",
      "Date:                Fri, 11 Jul 2025   Prob (F-statistic):           2.79e-09\n",
      "Time:                        02:08:23   Log-Likelihood:                -253.53\n",
      "No. Observations:                  80   AIC:                             513.1\n",
      "Df Residuals:                      77   BIC:                             520.2\n",
      "Df Model:                           2                                         \n",
      "Covariance Type:            nonrobust                                         \n",
      "==============================================================================\n",
      "                 coef    std err          t      P>|t|      [0.025      0.975]\n",
      "------------------------------------------------------------------------------\n",
      "const        -14.4664      5.569     -2.598      0.011     -25.556      -3.376\n",
      "Age            1.7567      0.246      7.150      0.000       1.267       2.246\n",
      "agePower2     -0.0173      0.002     -6.976      0.000      -0.022      -0.012\n",
      "==============================================================================\n",
      "Omnibus:                        2.225   Durbin-Watson:                   1.771\n",
      "Prob(Omnibus):                  0.329   Jarque-Bera (JB):                2.224\n",
      "Skew:                           0.370   Prob(JB):                        0.329\n",
      "Kurtosis:                       2.652   Cond. No.                     2.74e+04\n",
      "==============================================================================\n",
      "\n",
      "Notes:\n",
      "[1] Standard Errors assume that the covariance matrix of the errors is correctly specified.\n",
      "[2] The condition number is large, 2.74e+04. This might indicate that there are\n",
      "strong multicollinearity or other numerical problems.\n"
     ]
    }
   ],
   "source": [
    "wageModel3 = sm.OLS(\n",
    "  wagesDf[\"Wage\"],\n",
    "  wageModel3Transformer(wagesDf)\n",
    ")\n",
    "wageModel3Fit = wageModel3.fit()\n",
    "print(wageModel3Fit.summary())"
   ]
  },
  {
   "cell_type": "code",
   "execution_count": null,
   "metadata": {},
   "outputs": [],
   "source": []
  },
  {
   "cell_type": "code",
   "execution_count": 36,
   "metadata": {
    "colab": {
     "base_uri": "https://localhost:8080/"
    },
    "id": "hglfZzBecywO",
    "outputId": "5320cfd7-62d5-476f-dbfa-63710bc6d3a1"
   },
   "outputs": [
    {
     "data": {
      "text/plain": [
       "const       -14.466357\n",
       "Age           1.756677\n",
       "agePower2    -0.017339\n",
       "dtype: float64"
      ]
     },
     "execution_count": 36,
     "metadata": {},
     "output_type": "execute_result"
    }
   ],
   "source": [
    "wageModel3Fit.params"
   ]
  },
  {
   "cell_type": "code",
   "execution_count": 38,
   "metadata": {
    "colab": {
     "base_uri": "https://localhost:8080/",
     "height": 423
    },
    "id": "qefCiN4F4yHq",
    "outputId": "17f562cd-50a4-4126-df27-a1756c548fe3"
   },
   "outputs": [
    {
     "data": {
      "text/html": [
       "<div>\n",
       "<style scoped>\n",
       "    .dataframe tbody tr th:only-of-type {\n",
       "        vertical-align: middle;\n",
       "    }\n",
       "\n",
       "    .dataframe tbody tr th {\n",
       "        vertical-align: top;\n",
       "    }\n",
       "\n",
       "    .dataframe thead th {\n",
       "        text-align: right;\n",
       "    }\n",
       "</style>\n",
       "<table border=\"1\" class=\"dataframe\">\n",
       "  <thead>\n",
       "    <tr style=\"text-align: right;\">\n",
       "      <th></th>\n",
       "      <th>Wage</th>\n",
       "      <th>Educ</th>\n",
       "      <th>Age</th>\n",
       "      <th>agePower2</th>\n",
       "      <th>predictedWage3</th>\n",
       "    </tr>\n",
       "  </thead>\n",
       "  <tbody>\n",
       "    <tr>\n",
       "      <th>69</th>\n",
       "      <td>25.13</td>\n",
       "      <td>16</td>\n",
       "      <td>18</td>\n",
       "      <td>324.0</td>\n",
       "      <td>11.536003</td>\n",
       "    </tr>\n",
       "    <tr>\n",
       "      <th>27</th>\n",
       "      <td>12.39</td>\n",
       "      <td>13</td>\n",
       "      <td>19</td>\n",
       "      <td>361.0</td>\n",
       "      <td>12.651138</td>\n",
       "    </tr>\n",
       "    <tr>\n",
       "      <th>60</th>\n",
       "      <td>18.11</td>\n",
       "      <td>14</td>\n",
       "      <td>21</td>\n",
       "      <td>441.0</td>\n",
       "      <td>14.777375</td>\n",
       "    </tr>\n",
       "    <tr>\n",
       "      <th>62</th>\n",
       "      <td>6.93</td>\n",
       "      <td>6</td>\n",
       "      <td>21</td>\n",
       "      <td>441.0</td>\n",
       "      <td>14.777375</td>\n",
       "    </tr>\n",
       "    <tr>\n",
       "      <th>56</th>\n",
       "      <td>10.03</td>\n",
       "      <td>9</td>\n",
       "      <td>22</td>\n",
       "      <td>484.0</td>\n",
       "      <td>15.788477</td>\n",
       "    </tr>\n",
       "    <tr>\n",
       "      <th>...</th>\n",
       "      <td>...</td>\n",
       "      <td>...</td>\n",
       "      <td>...</td>\n",
       "      <td>...</td>\n",
       "      <td>...</td>\n",
       "    </tr>\n",
       "    <tr>\n",
       "      <th>48</th>\n",
       "      <td>28.95</td>\n",
       "      <td>20</td>\n",
       "      <td>75</td>\n",
       "      <td>5625.0</td>\n",
       "      <td>19.752807</td>\n",
       "    </tr>\n",
       "    <tr>\n",
       "      <th>77</th>\n",
       "      <td>21.87</td>\n",
       "      <td>15</td>\n",
       "      <td>75</td>\n",
       "      <td>5625.0</td>\n",
       "      <td>19.752807</td>\n",
       "    </tr>\n",
       "    <tr>\n",
       "      <th>0</th>\n",
       "      <td>17.54</td>\n",
       "      <td>12</td>\n",
       "      <td>76</td>\n",
       "      <td>5776.0</td>\n",
       "      <td>18.891302</td>\n",
       "    </tr>\n",
       "    <tr>\n",
       "      <th>67</th>\n",
       "      <td>15.38</td>\n",
       "      <td>12</td>\n",
       "      <td>76</td>\n",
       "      <td>5776.0</td>\n",
       "      <td>18.891302</td>\n",
       "    </tr>\n",
       "    <tr>\n",
       "      <th>50</th>\n",
       "      <td>10.31</td>\n",
       "      <td>9</td>\n",
       "      <td>77</td>\n",
       "      <td>5929.0</td>\n",
       "      <td>17.995120</td>\n",
       "    </tr>\n",
       "  </tbody>\n",
       "</table>\n",
       "<p>80 rows × 5 columns</p>\n",
       "</div>"
      ],
      "text/plain": [
       "     Wage  Educ  Age  agePower2  predictedWage3\n",
       "69  25.13    16   18      324.0       11.536003\n",
       "27  12.39    13   19      361.0       12.651138\n",
       "60  18.11    14   21      441.0       14.777375\n",
       "62   6.93     6   21      441.0       14.777375\n",
       "56  10.03     9   22      484.0       15.788477\n",
       "..    ...   ...  ...        ...             ...\n",
       "48  28.95    20   75     5625.0       19.752807\n",
       "77  21.87    15   75     5625.0       19.752807\n",
       "0   17.54    12   76     5776.0       18.891302\n",
       "67  15.38    12   76     5776.0       18.891302\n",
       "50  10.31     9   77     5929.0       17.995120\n",
       "\n",
       "[80 rows x 5 columns]"
      ]
     },
     "execution_count": 38,
     "metadata": {},
     "output_type": "execute_result"
    }
   ],
   "source": [
    "predictedWage3 = wageModel3Fit.predict(wageModel3Transformer(wagesDf))\n",
    "wagesDf['predictedWage3'] = predictedWage3\n",
    "wagesDf"
   ]
  },
  {
   "cell_type": "code",
   "execution_count": 40,
   "metadata": {
    "colab": {
     "base_uri": "https://localhost:8080/",
     "height": 718
    },
    "id": "MgtSumSS4v-w",
    "outputId": "647d4e43-4958-4336-ced1-415690966e01"
   },
   "outputs": [
    {
     "data": {
      "image/png": "[encoded data removed]",
      "text/plain": [
       "<Figure size 800x800 with 1 Axes>"
      ]
     },
     "metadata": {},
     "output_type": "display_data"
    }
   ],
   "source": [
    "# Plotting\n",
    "plt.figure(\n",
    "  figsize=(8, 8)\n",
    ")\n",
    "\n",
    "plt.scatter(\n",
    "  wagesDf[\"Age\"],\n",
    "  wagesDf[\"Wage\"],\n",
    "  color='blue',\n",
    "  alpha=0.9,\n",
    "  label='Data Points - scatter',\n",
    ")\n",
    "\n",
    "plt.plot(\n",
    "  wagesDf[\"Age\"],\n",
    "  wagesDf[\"predictedWage3\"],\n",
    "  color='green',\n",
    "  label='OLS Regression - predictedWage3'\n",
    ")\n",
    "plt.title('Age. Wage with OLS Regression')\n",
    "plt.xlabel('Age')\n",
    "plt.ylabel('Wage K')\n",
    "plt.legend()\n",
    "plt.grid(True)\n",
    "\n",
    "\n",
    "\n",
    "plt.show()"
   ]
  },
  {
   "cell_type": "code",
   "execution_count": 42,
   "metadata": {
    "colab": {
     "base_uri": "https://localhost:8080/",
     "height": 423
    },
    "id": "IdnsnYWW8vW6",
    "outputId": "7688f8f0-35f6-4ee1-a1fb-97cfc9f35c1d"
   },
   "outputs": [
    {
     "data": {
      "text/html": [
       "<div>\n",
       "<style scoped>\n",
       "    .dataframe tbody tr th:only-of-type {\n",
       "        vertical-align: middle;\n",
       "    }\n",
       "\n",
       "    .dataframe tbody tr th {\n",
       "        vertical-align: top;\n",
       "    }\n",
       "\n",
       "    .dataframe thead th {\n",
       "        text-align: right;\n",
       "    }\n",
       "</style>\n",
       "<table border=\"1\" class=\"dataframe\">\n",
       "  <thead>\n",
       "    <tr style=\"text-align: right;\">\n",
       "      <th></th>\n",
       "      <th>Wage</th>\n",
       "      <th>Educ</th>\n",
       "      <th>Age</th>\n",
       "      <th>agePower2</th>\n",
       "      <th>predictedWage3</th>\n",
       "    </tr>\n",
       "  </thead>\n",
       "  <tbody>\n",
       "    <tr>\n",
       "      <th>69</th>\n",
       "      <td>25.13</td>\n",
       "      <td>16</td>\n",
       "      <td>18</td>\n",
       "      <td>324.0</td>\n",
       "      <td>11.536003</td>\n",
       "    </tr>\n",
       "    <tr>\n",
       "      <th>27</th>\n",
       "      <td>12.39</td>\n",
       "      <td>13</td>\n",
       "      <td>19</td>\n",
       "      <td>361.0</td>\n",
       "      <td>12.651138</td>\n",
       "    </tr>\n",
       "    <tr>\n",
       "      <th>60</th>\n",
       "      <td>18.11</td>\n",
       "      <td>14</td>\n",
       "      <td>21</td>\n",
       "      <td>441.0</td>\n",
       "      <td>14.777375</td>\n",
       "    </tr>\n",
       "    <tr>\n",
       "      <th>62</th>\n",
       "      <td>6.93</td>\n",
       "      <td>6</td>\n",
       "      <td>21</td>\n",
       "      <td>441.0</td>\n",
       "      <td>14.777375</td>\n",
       "    </tr>\n",
       "    <tr>\n",
       "      <th>56</th>\n",
       "      <td>10.03</td>\n",
       "      <td>9</td>\n",
       "      <td>22</td>\n",
       "      <td>484.0</td>\n",
       "      <td>15.788477</td>\n",
       "    </tr>\n",
       "    <tr>\n",
       "      <th>...</th>\n",
       "      <td>...</td>\n",
       "      <td>...</td>\n",
       "      <td>...</td>\n",
       "      <td>...</td>\n",
       "      <td>...</td>\n",
       "    </tr>\n",
       "    <tr>\n",
       "      <th>48</th>\n",
       "      <td>28.95</td>\n",
       "      <td>20</td>\n",
       "      <td>75</td>\n",
       "      <td>5625.0</td>\n",
       "      <td>19.752807</td>\n",
       "    </tr>\n",
       "    <tr>\n",
       "      <th>77</th>\n",
       "      <td>21.87</td>\n",
       "      <td>15</td>\n",
       "      <td>75</td>\n",
       "      <td>5625.0</td>\n",
       "      <td>19.752807</td>\n",
       "    </tr>\n",
       "    <tr>\n",
       "      <th>0</th>\n",
       "      <td>17.54</td>\n",
       "      <td>12</td>\n",
       "      <td>76</td>\n",
       "      <td>5776.0</td>\n",
       "      <td>18.891302</td>\n",
       "    </tr>\n",
       "    <tr>\n",
       "      <th>67</th>\n",
       "      <td>15.38</td>\n",
       "      <td>12</td>\n",
       "      <td>76</td>\n",
       "      <td>5776.0</td>\n",
       "      <td>18.891302</td>\n",
       "    </tr>\n",
       "    <tr>\n",
       "      <th>50</th>\n",
       "      <td>10.31</td>\n",
       "      <td>9</td>\n",
       "      <td>77</td>\n",
       "      <td>5929.0</td>\n",
       "      <td>17.995120</td>\n",
       "    </tr>\n",
       "  </tbody>\n",
       "</table>\n",
       "<p>80 rows × 5 columns</p>\n",
       "</div>"
      ],
      "text/plain": [
       "     Wage  Educ  Age  agePower2  predictedWage3\n",
       "69  25.13    16   18      324.0       11.536003\n",
       "27  12.39    13   19      361.0       12.651138\n",
       "60  18.11    14   21      441.0       14.777375\n",
       "62   6.93     6   21      441.0       14.777375\n",
       "56  10.03     9   22      484.0       15.788477\n",
       "..    ...   ...  ...        ...             ...\n",
       "48  28.95    20   75     5625.0       19.752807\n",
       "77  21.87    15   75     5625.0       19.752807\n",
       "0   17.54    12   76     5776.0       18.891302\n",
       "67  15.38    12   76     5776.0       18.891302\n",
       "50  10.31     9   77     5929.0       17.995120\n",
       "\n",
       "[80 rows x 5 columns]"
      ]
     },
     "execution_count": 42,
     "metadata": {},
     "output_type": "execute_result"
    }
   ],
   "source": [
    "wagesDf"
   ]
  },
  {
   "cell_type": "code",
   "execution_count": 44,
   "metadata": {
    "id": "dshYJox1csXb"
   },
   "outputs": [],
   "source": [
    "# Extract coefficients\n",
    "coefficients = wageModel3Fit.params\n",
    "intercept = coefficients['const']\n",
    "slope_age = coefficients['Age']\n",
    "slope_age2 = coefficients['agePower2']"
   ]
  },
  {
   "cell_type": "code",
   "execution_count": 46,
   "metadata": {
    "colab": {
     "base_uri": "https://localhost:8080/",
     "height": 581
    },
    "id": "CDDHr3BxZKBi",
    "outputId": "38e4cc5a-3944-4f74-9a1f-ab9f28a688af"
   },
   "outputs": [
    {
     "data": {
      "image/png": "[encoded data removed]",
      "text/plain": [
       "<Figure size 1000x600 with 1 Axes>"
      ]
     },
     "metadata": {},
     "output_type": "display_data"
    },
    {
     "name": "stdout",
     "output_type": "stream",
     "text": [
      "The roots of the quadratic equation are: [np.float64(9.042055881204721), np.float64(92.27185466166867)]\n"
     ]
    }
   ],
   "source": [
    "\n",
    "\n",
    "# Solve the quadratic equation\n",
    "a = slope_age2\n",
    "b = slope_age\n",
    "c = intercept\n",
    "\n",
    "# Calculate the discriminant\n",
    "discriminant = b**2 - 4*a*c\n",
    "\n",
    "if discriminant >= 0:\n",
    "    root1 = (-b + np.sqrt(discriminant)) / (2*a)\n",
    "    root2 = (-b - np.sqrt(discriminant)) / (2*a)\n",
    "    roots = [root1, root2]\n",
    "else:\n",
    "    roots = []\n",
    "\n",
    "# Plotting the quadratic curve and the roots\n",
    "age_values = np.linspace(-5, 100, 400)\n",
    "wage_predictions = intercept + slope_age * age_values + slope_age2 * (age_values**2)\n",
    "\n",
    "plt.figure(figsize=(10, 6))\n",
    "plt.plot(age_values, wage_predictions, label='Quadratic Fit', color='blue')\n",
    "plt.axhline(0, color='black', linewidth=0.5, linestyle='--')\n",
    "\n",
    "if roots:\n",
    "    for root in roots:\n",
    "        plt.plot(root, 0, 'ro')  # Plot the roots on the curve\n",
    "        plt.annotate(f'Root: {root:.2f}', (root, 0), textcoords=\"offset points\", xytext=(0,10), ha='center')\n",
    "\n",
    "plt.xlabel('Age')\n",
    "plt.ylabel('Predicted Wage')\n",
    "plt.title('Quadratic Fit of Wage vs Age with Roots')\n",
    "plt.legend()\n",
    "plt.grid(True)\n",
    "plt.show()\n",
    "\n",
    "print(f\"The roots of the quadratic equation are: {roots}\")\n"
   ]
  },
  {
   "cell_type": "code",
   "execution_count": 48,
   "metadata": {
    "colab": {
     "base_uri": "https://localhost:8080/",
     "height": 581
    },
    "id": "0JTcLXGqez8F",
    "outputId": "214281e8-99de-420f-89d7-3fe6cf3d22dc"
   },
   "outputs": [
    {
     "data": {
      "image/png": "[encoded data removed]",
      "text/plain": [
       "<Figure size 1000x600 with 1 Axes>"
      ]
     },
     "metadata": {},
     "output_type": "display_data"
    },
    {
     "name": "stdout",
     "output_type": "stream",
     "text": [
      "The roots of the quadratic equation are: [np.float64(9.042055881204721), np.float64(92.27185466166867)]\n"
     ]
    }
   ],
   "source": [
    "\n",
    "\n",
    "# Solve the quadratic equation\n",
    "a = slope_age2\n",
    "b = slope_age\n",
    "c = intercept\n",
    "\n",
    "# Calculate the discriminant\n",
    "discriminant = b**2 - 4*a*c\n",
    "\n",
    "if discriminant >= 0:\n",
    "    root1 = (-b + np.sqrt(discriminant)) / (2*a)\n",
    "    root2 = (-b - np.sqrt(discriminant)) / (2*a)\n",
    "    roots = [root1, root2]\n",
    "else:\n",
    "    roots = []\n",
    "\n",
    "# Plotting the quadratic curve and the roots\n",
    "age_values = np.linspace(-5, 100, 400)\n",
    "wage_predictions = intercept + slope_age * age_values + slope_age2 * (age_values**2)\n",
    "\n",
    "plt.figure(figsize=(10, 6))\n",
    "plt.plot(age_values, wage_predictions, label='Quadratic Fit', color='blue')\n",
    "plt.axhline(0, color='black', linewidth=0.5, linestyle='--')\n",
    "\n",
    "if roots:\n",
    "    for root in roots:\n",
    "        plt.plot(root, 0, 'ro')  # Plot the roots on the curve\n",
    "        plt.annotate(f'Root: {root:.2f}', (root, 0), textcoords=\"offset points\", xytext=(0,10), ha='center')\n",
    "\n",
    "plt.xlabel('Age')\n",
    "plt.ylabel('Predicted Wage')\n",
    "plt.title('Quadratic Fit of Wage vs Age with Roots')\n",
    "plt.legend()\n",
    "\n",
    "# Find the vertex (maximum point for a downward parabola)\n",
    "vertex_age = -b / (2 * a)\n",
    "vertex_wage = intercept + slope_age * vertex_age + slope_age2 * (vertex_age**2)\n",
    "# Plot the maximum point (vertex)\n",
    "plt.plot(vertex_age, vertex_wage, 'go')  # Green dot for the maximum point\n",
    "plt.annotate(f'Max: ({vertex_age:.2f}, {vertex_wage:.2f})', (vertex_age, vertex_wage), textcoords=\"offset points\", xytext=(0,10), ha='center')\n",
    "\n",
    "\n",
    "\n",
    "plt.grid(True)\n",
    "plt.show()\n",
    "\n",
    "print(f\"The roots of the quadratic equation are: {roots}\")"
   ]
  },
  {
   "cell_type": "code",
   "execution_count": 50,
   "metadata": {
    "colab": {
     "base_uri": "https://localhost:8080/"
    },
    "id": "jkgIsseinsgt",
    "outputId": "4079e22f-e408-47db-97fc-31162de9a0b3"
   },
   "outputs": [
    {
     "name": "stdout",
     "output_type": "stream",
     "text": [
      "SST: 4420.060579999999\n",
      "SSR: 2649.9434068207843\n",
      "R^2: 0.40047350961402783\n",
      "R^2_2: 0.40047350961402317\n"
     ]
    }
   ],
   "source": [
    "# SST and SSR \n",
    "# more information https://365datascience.com/tutorials/statistics-tutorials/sum-squares/\n",
    "\n",
    "# Extract observed and predicted values\n",
    "observedValues = wagesDf[\"Wage\"]\n",
    "predictedValues = wageModel3Fit.predict(wageModel3Transformer(wagesDf))\n",
    "\n",
    "# Calculate the mean of observed values\n",
    "mean_observed = np.mean(observedValues)\n",
    "\n",
    "# Calculate SST\n",
    "sst = np.sum((observedValues - mean_observed) ** 2)\n",
    "\n",
    "# Calculate SSR\n",
    "ssr = np.sum((observedValues - predictedValues) ** 2)\n",
    "\n",
    "errors = np.sum(( predictedValues - mean_observed) ** 2)\n",
    "\n",
    "# Calculate R^2\n",
    "r_squared = 1 - (ssr / sst)\n",
    "r_squared2 = errors / sst\n",
    "\n",
    "print(f\"SST: {sst}\")\n",
    "print(f\"SSR: {ssr}\")\n",
    "print(f\"R^2: {r_squared}\")\n",
    "print(f\"R^2_2: {r_squared2}\")"
   ]
  },
  {
   "cell_type": "code",
   "execution_count": 52,
   "metadata": {
    "colab": {
     "base_uri": "https://localhost:8080/"
    },
    "id": "m7wewN-AwQYh",
    "outputId": "60dcfa40-7dd4-42d3-d8fa-437a02ca83b7"
   },
   "outputs": [
    {
     "data": {
      "text/plain": [
       "(80, 5)"
      ]
     },
     "execution_count": 52,
     "metadata": {},
     "output_type": "execute_result"
    }
   ],
   "source": [
    "wagesDf.shape"
   ]
  },
  {
   "cell_type": "code",
   "execution_count": 54,
   "metadata": {
    "colab": {
     "base_uri": "https://localhost:8080/"
    },
    "id": "TJz1hDHvZLJ8",
    "outputId": "8bfddf95-43ba-492f-ecd8-1540a4653544"
   },
   "outputs": [
    {
     "data": {
      "text/plain": [
       "(     Wage  Educ  Age  agePower2  predictedWage3\n",
       " 34  16.32     8   27      729.0       20.323818\n",
       " 36  40.61    18   59     3481.0       28.820685\n",
       " 35  31.39    14   51     2601.0       30.025546\n",
       " 78  27.54    20   46     2116.0       29.651553\n",
       " 11  34.95    22   55     3025.0       29.700539,\n",
       " (68, 5))"
      ]
     },
     "execution_count": 54,
     "metadata": {},
     "output_type": "execute_result"
    }
   ],
   "source": [
    "from sklearn.model_selection import train_test_split\n",
    "# Split the data into train and test sets\n",
    "trainSet, testSet = train_test_split(wagesDf, test_size=0.15, random_state=800)\n",
    "# trainSet, testSet = train_test_split(wagesDf, test_size=0.15)\n",
    "\n",
    "trainSet.head(), trainSet.shape"
   ]
  },
  {
   "cell_type": "code",
   "execution_count": 56,
   "metadata": {
    "colab": {
     "base_uri": "https://localhost:8080/"
    },
    "id": "nrMuBOJqZeAz",
    "outputId": "d73d7fff-ec53-4cdb-97f1-10556dfffa03"
   },
   "outputs": [
    {
     "data": {
      "text/plain": [
       "((80, 5), (68, 5), (12, 5))"
      ]
     },
     "execution_count": 56,
     "metadata": {},
     "output_type": "execute_result"
    }
   ],
   "source": [
    "wagesDf.shape, trainSet.shape, testSet.shape"
   ]
  },
  {
   "cell_type": "code",
   "execution_count": 58,
   "metadata": {
    "colab": {
     "base_uri": "https://localhost:8080/"
    },
    "id": "age5UP_tZvAJ",
    "outputId": "9d8f6b97-c56e-42df-ef85-a0f5cfc2e7d2"
   },
   "outputs": [
    {
     "name": "stdout",
     "output_type": "stream",
     "text": [
      "                            OLS Regression Results                            \n",
      "==============================================================================\n",
      "Dep. Variable:                   Wage   R-squared:                       0.387\n",
      "Model:                            OLS   Adj. R-squared:                  0.368\n",
      "Method:                 Least Squares   F-statistic:                     20.54\n",
      "Date:                Fri, 11 Jul 2025   Prob (F-statistic):           1.22e-07\n",
      "Time:                        02:09:00   Log-Likelihood:                -218.06\n",
      "No. Observations:                  68   AIC:                             442.1\n",
      "Df Residuals:                      65   BIC:                             448.8\n",
      "Df Model:                           2                                         \n",
      "Covariance Type:            nonrobust                                         \n",
      "==============================================================================\n",
      "                 coef    std err          t      P>|t|      [0.025      0.975]\n",
      "------------------------------------------------------------------------------\n",
      "const        -13.6482      6.198     -2.202      0.031     -26.027      -1.269\n",
      "Age            1.7376      0.271      6.409      0.000       1.196       2.279\n",
      "agePower2     -0.0173      0.003     -6.309      0.000      -0.023      -0.012\n",
      "==============================================================================\n",
      "Omnibus:                        2.176   Durbin-Watson:                   1.838\n",
      "Prob(Omnibus):                  0.337   Jarque-Bera (JB):                2.118\n",
      "Skew:                           0.368   Prob(JB):                        0.347\n",
      "Kurtosis:                       2.546   Cond. No.                     2.73e+04\n",
      "==============================================================================\n",
      "\n",
      "Notes:\n",
      "[1] Standard Errors assume that the covariance matrix of the errors is correctly specified.\n",
      "[2] The condition number is large, 2.73e+04. This might indicate that there are\n",
      "strong multicollinearity or other numerical problems.\n"
     ]
    }
   ],
   "source": [
    "trainModel = sm.OLS(\n",
    "  trainSet[\"Wage\"],\n",
    "  wageModel3Transformer(trainSet)\n",
    ")\n",
    "trainModelFit = trainModel.fit()\n",
    "print(trainModelFit.summary())"
   ]
  },
  {
   "cell_type": "code",
   "execution_count": 60,
   "metadata": {
    "id": "4IQWm6sAZ49v"
   },
   "outputs": [
    {
     "name": "stdout",
     "output_type": "stream",
     "text": [
      "                            OLS Regression Results                            \n",
      "==============================================================================\n",
      "Dep. Variable:                   Wage   R-squared:                       0.400\n",
      "Model:                            OLS   Adj. R-squared:                  0.385\n",
      "Method:                 Least Squares   F-statistic:                     25.72\n",
      "Date:                Fri, 11 Jul 2025   Prob (F-statistic):           2.79e-09\n",
      "Time:                        02:09:03   Log-Likelihood:                -253.53\n",
      "No. Observations:                  80   AIC:                             513.1\n",
      "Df Residuals:                      77   BIC:                             520.2\n",
      "Df Model:                           2                                         \n",
      "Covariance Type:            nonrobust                                         \n",
      "==============================================================================\n",
      "                 coef    std err          t      P>|t|      [0.025      0.975]\n",
      "------------------------------------------------------------------------------\n",
      "const        -14.4664      5.569     -2.598      0.011     -25.556      -3.376\n",
      "Age            1.7567      0.246      7.150      0.000       1.267       2.246\n",
      "agePower2     -0.0173      0.002     -6.976      0.000      -0.022      -0.012\n",
      "==============================================================================\n",
      "Omnibus:                        2.225   Durbin-Watson:                   1.771\n",
      "Prob(Omnibus):                  0.329   Jarque-Bera (JB):                2.224\n",
      "Skew:                           0.370   Prob(JB):                        0.329\n",
      "Kurtosis:                       2.652   Cond. No.                     2.74e+04\n",
      "==============================================================================\n",
      "\n",
      "Notes:\n",
      "[1] Standard Errors assume that the covariance matrix of the errors is correctly specified.\n",
      "[2] The condition number is large, 2.74e+04. This might indicate that there are\n",
      "strong multicollinearity or other numerical problems.\n"
     ]
    }
   ],
   "source": [
    "print(wageModel3Fit.summary())"
   ]
  },
  {
   "cell_type": "code",
   "execution_count": 62,
   "metadata": {
    "colab": {
     "base_uri": "https://localhost:8080/",
     "height": 425
    },
    "id": "iDMK9vMyaKcb",
    "outputId": "f7a3e954-1ad8-46e7-9cdf-06e2dd21dcd2"
   },
   "outputs": [
    {
     "data": {
      "text/html": [
       "<div>\n",
       "<style scoped>\n",
       "    .dataframe tbody tr th:only-of-type {\n",
       "        vertical-align: middle;\n",
       "    }\n",
       "\n",
       "    .dataframe tbody tr th {\n",
       "        vertical-align: top;\n",
       "    }\n",
       "\n",
       "    .dataframe thead th {\n",
       "        text-align: right;\n",
       "    }\n",
       "</style>\n",
       "<table border=\"1\" class=\"dataframe\">\n",
       "  <thead>\n",
       "    <tr style=\"text-align: right;\">\n",
       "      <th></th>\n",
       "      <th>Wage</th>\n",
       "      <th>Educ</th>\n",
       "      <th>Age</th>\n",
       "      <th>agePower2</th>\n",
       "      <th>predictedWage3</th>\n",
       "      <th>predictedTest</th>\n",
       "    </tr>\n",
       "  </thead>\n",
       "  <tbody>\n",
       "    <tr>\n",
       "      <th>56</th>\n",
       "      <td>10.03</td>\n",
       "      <td>9</td>\n",
       "      <td>22</td>\n",
       "      <td>484.0</td>\n",
       "      <td>15.788477</td>\n",
       "      <td>16.224000</td>\n",
       "    </tr>\n",
       "    <tr>\n",
       "      <th>64</th>\n",
       "      <td>18.28</td>\n",
       "      <td>8</td>\n",
       "      <td>70</td>\n",
       "      <td>4900.0</td>\n",
       "      <td>23.540161</td>\n",
       "      <td>23.396109</td>\n",
       "    </tr>\n",
       "    <tr>\n",
       "      <th>15</th>\n",
       "      <td>30.48</td>\n",
       "      <td>17</td>\n",
       "      <td>41</td>\n",
       "      <td>1681.0</td>\n",
       "      <td>28.410612</td>\n",
       "      <td>28.574865</td>\n",
       "    </tr>\n",
       "    <tr>\n",
       "      <th>54</th>\n",
       "      <td>33.70</td>\n",
       "      <td>18</td>\n",
       "      <td>62</td>\n",
       "      <td>3844.0</td>\n",
       "      <td>27.796677</td>\n",
       "      <td>27.724913</td>\n",
       "    </tr>\n",
       "    <tr>\n",
       "      <th>8</th>\n",
       "      <td>25.60</td>\n",
       "      <td>15</td>\n",
       "      <td>54</td>\n",
       "      <td>2916.0</td>\n",
       "      <td>29.833807</td>\n",
       "      <td>29.844055</td>\n",
       "    </tr>\n",
       "    <tr>\n",
       "      <th>21</th>\n",
       "      <td>28.33</td>\n",
       "      <td>16</td>\n",
       "      <td>66</td>\n",
       "      <td>4356.0</td>\n",
       "      <td>25.945842</td>\n",
       "      <td>25.836719</td>\n",
       "    </tr>\n",
       "    <tr>\n",
       "      <th>45</th>\n",
       "      <td>26.04</td>\n",
       "      <td>17</td>\n",
       "      <td>36</td>\n",
       "      <td>1296.0</td>\n",
       "      <td>26.302724</td>\n",
       "      <td>26.533046</td>\n",
       "    </tr>\n",
       "    <tr>\n",
       "      <th>29</th>\n",
       "      <td>16.97</td>\n",
       "      <td>9</td>\n",
       "      <td>32</td>\n",
       "      <td>1024.0</td>\n",
       "      <td>23.992211</td>\n",
       "      <td>24.278124</td>\n",
       "    </tr>\n",
       "    <tr>\n",
       "      <th>44</th>\n",
       "      <td>24.26</td>\n",
       "      <td>20</td>\n",
       "      <td>25</td>\n",
       "      <td>625.0</td>\n",
       "      <td>18.613715</td>\n",
       "      <td>19.002760</td>\n",
       "    </tr>\n",
       "    <tr>\n",
       "      <th>46</th>\n",
       "      <td>23.80</td>\n",
       "      <td>17</td>\n",
       "      <td>33</td>\n",
       "      <td>1089.0</td>\n",
       "      <td>24.621856</td>\n",
       "      <td>24.893644</td>\n",
       "    </tr>\n",
       "    <tr>\n",
       "      <th>18</th>\n",
       "      <td>23.92</td>\n",
       "      <td>16</td>\n",
       "      <td>74</td>\n",
       "      <td>5476.0</td>\n",
       "      <td>20.579633</td>\n",
       "      <td>20.403084</td>\n",
       "    </tr>\n",
       "    <tr>\n",
       "      <th>22</th>\n",
       "      <td>25.67</td>\n",
       "      <td>12</td>\n",
       "      <td>37</td>\n",
       "      <td>1369.0</td>\n",
       "      <td>26.793657</td>\n",
       "      <td>27.010462</td>\n",
       "    </tr>\n",
       "  </tbody>\n",
       "</table>\n",
       "</div>"
      ],
      "text/plain": [
       "     Wage  Educ  Age  agePower2  predictedWage3  predictedTest\n",
       "56  10.03     9   22      484.0       15.788477      16.224000\n",
       "64  18.28     8   70     4900.0       23.540161      23.396109\n",
       "15  30.48    17   41     1681.0       28.410612      28.574865\n",
       "54  33.70    18   62     3844.0       27.796677      27.724913\n",
       "8   25.60    15   54     2916.0       29.833807      29.844055\n",
       "21  28.33    16   66     4356.0       25.945842      25.836719\n",
       "45  26.04    17   36     1296.0       26.302724      26.533046\n",
       "29  16.97     9   32     1024.0       23.992211      24.278124\n",
       "44  24.26    20   25      625.0       18.613715      19.002760\n",
       "46  23.80    17   33     1089.0       24.621856      24.893644\n",
       "18  23.92    16   74     5476.0       20.579633      20.403084\n",
       "22  25.67    12   37     1369.0       26.793657      27.010462"
      ]
     },
     "execution_count": 62,
     "metadata": {},
     "output_type": "execute_result"
    }
   ],
   "source": [
    "predictedTest = trainModelFit.predict(wageModel3Transformer(testSet))\n",
    "testSet['predictedTest'] = predictedTest\n",
    "testSet"
   ]
  },
  {
   "cell_type": "code",
   "execution_count": 64,
   "metadata": {
    "id": "eRBHphDvakJD"
   },
   "outputs": [
    {
     "data": {
      "text/html": [
       "<div>\n",
       "<style scoped>\n",
       "    .dataframe tbody tr th:only-of-type {\n",
       "        vertical-align: middle;\n",
       "    }\n",
       "\n",
       "    .dataframe tbody tr th {\n",
       "        vertical-align: top;\n",
       "    }\n",
       "\n",
       "    .dataframe thead th {\n",
       "        text-align: right;\n",
       "    }\n",
       "</style>\n",
       "<table border=\"1\" class=\"dataframe\">\n",
       "  <thead>\n",
       "    <tr style=\"text-align: right;\">\n",
       "      <th></th>\n",
       "      <th>Wage</th>\n",
       "      <th>Educ</th>\n",
       "      <th>Age</th>\n",
       "      <th>agePower2</th>\n",
       "      <th>predictedWage3</th>\n",
       "      <th>predictedTest</th>\n",
       "      <th>error</th>\n",
       "    </tr>\n",
       "  </thead>\n",
       "  <tbody>\n",
       "    <tr>\n",
       "      <th>56</th>\n",
       "      <td>10.03</td>\n",
       "      <td>9</td>\n",
       "      <td>22</td>\n",
       "      <td>484.0</td>\n",
       "      <td>15.788477</td>\n",
       "      <td>16.224000</td>\n",
       "      <td>-6.194000</td>\n",
       "    </tr>\n",
       "    <tr>\n",
       "      <th>64</th>\n",
       "      <td>18.28</td>\n",
       "      <td>8</td>\n",
       "      <td>70</td>\n",
       "      <td>4900.0</td>\n",
       "      <td>23.540161</td>\n",
       "      <td>23.396109</td>\n",
       "      <td>-5.116109</td>\n",
       "    </tr>\n",
       "    <tr>\n",
       "      <th>15</th>\n",
       "      <td>30.48</td>\n",
       "      <td>17</td>\n",
       "      <td>41</td>\n",
       "      <td>1681.0</td>\n",
       "      <td>28.410612</td>\n",
       "      <td>28.574865</td>\n",
       "      <td>1.905135</td>\n",
       "    </tr>\n",
       "    <tr>\n",
       "      <th>54</th>\n",
       "      <td>33.70</td>\n",
       "      <td>18</td>\n",
       "      <td>62</td>\n",
       "      <td>3844.0</td>\n",
       "      <td>27.796677</td>\n",
       "      <td>27.724913</td>\n",
       "      <td>5.975087</td>\n",
       "    </tr>\n",
       "    <tr>\n",
       "      <th>8</th>\n",
       "      <td>25.60</td>\n",
       "      <td>15</td>\n",
       "      <td>54</td>\n",
       "      <td>2916.0</td>\n",
       "      <td>29.833807</td>\n",
       "      <td>29.844055</td>\n",
       "      <td>-4.244055</td>\n",
       "    </tr>\n",
       "    <tr>\n",
       "      <th>21</th>\n",
       "      <td>28.33</td>\n",
       "      <td>16</td>\n",
       "      <td>66</td>\n",
       "      <td>4356.0</td>\n",
       "      <td>25.945842</td>\n",
       "      <td>25.836719</td>\n",
       "      <td>2.493281</td>\n",
       "    </tr>\n",
       "    <tr>\n",
       "      <th>45</th>\n",
       "      <td>26.04</td>\n",
       "      <td>17</td>\n",
       "      <td>36</td>\n",
       "      <td>1296.0</td>\n",
       "      <td>26.302724</td>\n",
       "      <td>26.533046</td>\n",
       "      <td>-0.493046</td>\n",
       "    </tr>\n",
       "    <tr>\n",
       "      <th>29</th>\n",
       "      <td>16.97</td>\n",
       "      <td>9</td>\n",
       "      <td>32</td>\n",
       "      <td>1024.0</td>\n",
       "      <td>23.992211</td>\n",
       "      <td>24.278124</td>\n",
       "      <td>-7.308124</td>\n",
       "    </tr>\n",
       "    <tr>\n",
       "      <th>44</th>\n",
       "      <td>24.26</td>\n",
       "      <td>20</td>\n",
       "      <td>25</td>\n",
       "      <td>625.0</td>\n",
       "      <td>18.613715</td>\n",
       "      <td>19.002760</td>\n",
       "      <td>5.257240</td>\n",
       "    </tr>\n",
       "    <tr>\n",
       "      <th>46</th>\n",
       "      <td>23.80</td>\n",
       "      <td>17</td>\n",
       "      <td>33</td>\n",
       "      <td>1089.0</td>\n",
       "      <td>24.621856</td>\n",
       "      <td>24.893644</td>\n",
       "      <td>-1.093644</td>\n",
       "    </tr>\n",
       "    <tr>\n",
       "      <th>18</th>\n",
       "      <td>23.92</td>\n",
       "      <td>16</td>\n",
       "      <td>74</td>\n",
       "      <td>5476.0</td>\n",
       "      <td>20.579633</td>\n",
       "      <td>20.403084</td>\n",
       "      <td>3.516916</td>\n",
       "    </tr>\n",
       "    <tr>\n",
       "      <th>22</th>\n",
       "      <td>25.67</td>\n",
       "      <td>12</td>\n",
       "      <td>37</td>\n",
       "      <td>1369.0</td>\n",
       "      <td>26.793657</td>\n",
       "      <td>27.010462</td>\n",
       "      <td>-1.340462</td>\n",
       "    </tr>\n",
       "  </tbody>\n",
       "</table>\n",
       "</div>"
      ],
      "text/plain": [
       "     Wage  Educ  Age  agePower2  predictedWage3  predictedTest     error\n",
       "56  10.03     9   22      484.0       15.788477      16.224000 -6.194000\n",
       "64  18.28     8   70     4900.0       23.540161      23.396109 -5.116109\n",
       "15  30.48    17   41     1681.0       28.410612      28.574865  1.905135\n",
       "54  33.70    18   62     3844.0       27.796677      27.724913  5.975087\n",
       "8   25.60    15   54     2916.0       29.833807      29.844055 -4.244055\n",
       "21  28.33    16   66     4356.0       25.945842      25.836719  2.493281\n",
       "45  26.04    17   36     1296.0       26.302724      26.533046 -0.493046\n",
       "29  16.97     9   32     1024.0       23.992211      24.278124 -7.308124\n",
       "44  24.26    20   25      625.0       18.613715      19.002760  5.257240\n",
       "46  23.80    17   33     1089.0       24.621856      24.893644 -1.093644\n",
       "18  23.92    16   74     5476.0       20.579633      20.403084  3.516916\n",
       "22  25.67    12   37     1369.0       26.793657      27.010462 -1.340462"
      ]
     },
     "execution_count": 64,
     "metadata": {},
     "output_type": "execute_result"
    }
   ],
   "source": [
    "testSet['error']  = testSet['Wage'] - testSet['predictedTest']\n",
    "testSet"
   ]
  },
  {
   "cell_type": "code",
   "execution_count": 66,
   "metadata": {
    "id": "OB2czTPPaydk"
   },
   "outputs": [
    {
     "data": {
      "image/png": "[encoded data removed]",
      "text/plain": [
       "<Figure size 640x480 with 1 Axes>"
      ]
     },
     "metadata": {},
     "output_type": "display_data"
    }
   ],
   "source": [
    "# Plot errors\n",
    "plt.scatter(range(len(testSet['error'])), testSet['error'])\n",
    "plt.axhline(y=0, color='r', linestyle='-')\n",
    "plt.xlabel('Index')\n",
    "plt.ylabel('Error')\n",
    "plt.title('Error Plot')\n",
    "plt.show()\n"
   ]
  },
  {
   "cell_type": "code",
   "execution_count": 68,
   "metadata": {
    "id": "eQLAKa7ma8FF"
   },
   "outputs": [
    {
     "name": "stdout",
     "output_type": "stream",
     "text": [
      "RMSE: 4.32773809069627\n"
     ]
    }
   ],
   "source": [
    "from sklearn.metrics import mean_squared_error\n",
    "# Calculate RMSE\n",
    "rmse = np.sqrt(mean_squared_error(testSet['Wage'], testSet['predictedTest']))\n",
    "print(\"RMSE:\", rmse)"
   ]
  },
  {
   "cell_type": "code",
   "execution_count": 70,
   "metadata": {
    "id": "1vyO_1khbMJH"
   },
   "outputs": [
    {
     "name": "stdout",
     "output_type": "stream",
     "text": [
      "RMSE with respect to mean of train set wage: 6.0668736228436115\n"
     ]
    }
   ],
   "source": [
    "# RMSE with respect to mean of train set wage\n",
    "meanTrainWage = np.mean(testSet['Wage'])\n",
    "rmseMean = np.sqrt(mean_squared_error(testSet['Wage'], [meanTrainWage] * len(testSet['Wage'])))\n",
    "print(\"RMSE with respect to mean of train set wage:\", rmseMean)"
   ]
  },
  {
   "cell_type": "markdown",
   "metadata": {
    "id": "GfVS5gDcZJ2L"
   },
   "source": []
  },
  {
   "cell_type": "code",
   "execution_count": 73,
   "metadata": {},
   "outputs": [],
   "source": [
    "def wageModel5Transformer(dataForTransfer = None):\n",
    "    import pandas as pd\n",
    "    import statsmodels.api as sm\n",
    "    if isinstance(dataForTransfer, pd.DataFrame):\n",
    "        df = dataForTransfer.copy()\n",
    "    else:\n",
    "        df = pd.DataFrame(dataForTransfer)\n",
    "    df['agePower2'] = df.apply(lambda row: row['Age'] * row['Age'], axis=1)\n",
    "    dfTransformer = sm.add_constant(df[['Educ','Age', 'agePower2']],has_constant='add')\n",
    "    return dfTransformer"
   ]
  },
  {
   "cell_type": "code",
   "execution_count": 75,
   "metadata": {
    "id": "sInRkJsaCGW0"
   },
   "outputs": [
    {
     "name": "stdout",
     "output_type": "stream",
     "text": [
      "                            OLS Regression Results                            \n",
      "==============================================================================\n",
      "Dep. Variable:                   Wage   R-squared:                       0.838\n",
      "Model:                            OLS   Adj. R-squared:                  0.830\n",
      "Method:                 Least Squares   F-statistic:                     110.0\n",
      "Date:                Fri, 11 Jul 2025   Prob (F-statistic):           3.30e-25\n",
      "Time:                        02:09:42   Log-Likelihood:                -172.93\n",
      "No. Observations:                  68   AIC:                             353.9\n",
      "Df Residuals:                      64   BIC:                             362.7\n",
      "Df Model:                           3                                         \n",
      "Covariance Type:            nonrobust                                         \n",
      "==============================================================================\n",
      "                 coef    std err          t      P>|t|      [0.025      0.975]\n",
      "------------------------------------------------------------------------------\n",
      "const        -22.0798      3.278     -6.735      0.000     -28.629     -15.530\n",
      "Educ           1.3099      0.098     13.317      0.000       1.113       1.506\n",
      "Age            1.3178      0.144      9.138      0.000       1.030       1.606\n",
      "agePower2     -0.0132      0.001     -9.058      0.000      -0.016      -0.010\n",
      "==============================================================================\n",
      "Omnibus:                        3.710   Durbin-Watson:                   1.846\n",
      "Prob(Omnibus):                  0.156   Jarque-Bera (JB):                3.565\n",
      "Skew:                          -0.188   Prob(JB):                        0.168\n",
      "Kurtosis:                       4.057   Cond. No.                     2.78e+04\n",
      "==============================================================================\n",
      "\n",
      "Notes:\n",
      "[1] Standard Errors assume that the covariance matrix of the errors is correctly specified.\n",
      "[2] The condition number is large, 2.78e+04. This might indicate that there are\n",
      "strong multicollinearity or other numerical problems.\n"
     ]
    }
   ],
   "source": [
    "# Lets include Education\n",
    "trainModel2 = sm.OLS(\n",
    "  trainSet[\"Wage\"],\n",
    "  wageModel5Transformer(trainSet)\n",
    ")\n",
    "trainModel2Fit = trainModel2.fit()\n",
    "print(trainModel2Fit.summary())"
   ]
  },
  {
   "cell_type": "code",
   "execution_count": 76,
   "metadata": {
    "id": "RIJE5VocCWXY"
   },
   "outputs": [
    {
     "data": {
      "text/html": [
       "<div>\n",
       "<style scoped>\n",
       "    .dataframe tbody tr th:only-of-type {\n",
       "        vertical-align: middle;\n",
       "    }\n",
       "\n",
       "    .dataframe tbody tr th {\n",
       "        vertical-align: top;\n",
       "    }\n",
       "\n",
       "    .dataframe thead th {\n",
       "        text-align: right;\n",
       "    }\n",
       "</style>\n",
       "<table border=\"1\" class=\"dataframe\">\n",
       "  <thead>\n",
       "    <tr style=\"text-align: right;\">\n",
       "      <th></th>\n",
       "      <th>Wage</th>\n",
       "      <th>Educ</th>\n",
       "      <th>Age</th>\n",
       "      <th>agePower2</th>\n",
       "      <th>predictedWage3</th>\n",
       "      <th>predictedTest</th>\n",
       "      <th>error</th>\n",
       "      <th>predictedTest2</th>\n",
       "      <th>error2</th>\n",
       "    </tr>\n",
       "  </thead>\n",
       "  <tbody>\n",
       "    <tr>\n",
       "      <th>56</th>\n",
       "      <td>10.03</td>\n",
       "      <td>9</td>\n",
       "      <td>22</td>\n",
       "      <td>484.0</td>\n",
       "      <td>15.788477</td>\n",
       "      <td>16.224000</td>\n",
       "      <td>-6.194000</td>\n",
       "      <td>12.329347</td>\n",
       "      <td>-2.299347</td>\n",
       "    </tr>\n",
       "    <tr>\n",
       "      <th>64</th>\n",
       "      <td>18.28</td>\n",
       "      <td>8</td>\n",
       "      <td>70</td>\n",
       "      <td>4900.0</td>\n",
       "      <td>23.540161</td>\n",
       "      <td>23.396109</td>\n",
       "      <td>-5.116109</td>\n",
       "      <td>16.151010</td>\n",
       "      <td>2.128990</td>\n",
       "    </tr>\n",
       "    <tr>\n",
       "      <th>15</th>\n",
       "      <td>30.48</td>\n",
       "      <td>17</td>\n",
       "      <td>41</td>\n",
       "      <td>1681.0</td>\n",
       "      <td>28.410612</td>\n",
       "      <td>28.574865</td>\n",
       "      <td>1.905135</td>\n",
       "      <td>32.091319</td>\n",
       "      <td>-1.611319</td>\n",
       "    </tr>\n",
       "    <tr>\n",
       "      <th>54</th>\n",
       "      <td>33.70</td>\n",
       "      <td>18</td>\n",
       "      <td>62</td>\n",
       "      <td>3844.0</td>\n",
       "      <td>27.796677</td>\n",
       "      <td>27.724913</td>\n",
       "      <td>5.975087</td>\n",
       "      <td>32.605925</td>\n",
       "      <td>1.094075</td>\n",
       "    </tr>\n",
       "    <tr>\n",
       "      <th>8</th>\n",
       "      <td>25.60</td>\n",
       "      <td>15</td>\n",
       "      <td>54</td>\n",
       "      <td>2916.0</td>\n",
       "      <td>29.833807</td>\n",
       "      <td>29.844055</td>\n",
       "      <td>-4.244055</td>\n",
       "      <td>30.348106</td>\n",
       "      <td>-4.748106</td>\n",
       "    </tr>\n",
       "    <tr>\n",
       "      <th>21</th>\n",
       "      <td>28.33</td>\n",
       "      <td>16</td>\n",
       "      <td>66</td>\n",
       "      <td>4356.0</td>\n",
       "      <td>25.945842</td>\n",
       "      <td>25.836719</td>\n",
       "      <td>2.493281</td>\n",
       "      <td>28.518606</td>\n",
       "      <td>-0.188606</td>\n",
       "    </tr>\n",
       "    <tr>\n",
       "      <th>45</th>\n",
       "      <td>26.04</td>\n",
       "      <td>17</td>\n",
       "      <td>36</td>\n",
       "      <td>1296.0</td>\n",
       "      <td>26.302724</td>\n",
       "      <td>26.533046</td>\n",
       "      <td>-0.493046</td>\n",
       "      <td>30.569681</td>\n",
       "      <td>-4.529681</td>\n",
       "    </tr>\n",
       "    <tr>\n",
       "      <th>29</th>\n",
       "      <td>16.97</td>\n",
       "      <td>9</td>\n",
       "      <td>32</td>\n",
       "      <td>1024.0</td>\n",
       "      <td>23.992211</td>\n",
       "      <td>24.278124</td>\n",
       "      <td>-7.308124</td>\n",
       "      <td>18.399744</td>\n",
       "      <td>-1.429744</td>\n",
       "    </tr>\n",
       "    <tr>\n",
       "      <th>44</th>\n",
       "      <td>24.26</td>\n",
       "      <td>20</td>\n",
       "      <td>25</td>\n",
       "      <td>625.0</td>\n",
       "      <td>18.613715</td>\n",
       "      <td>19.002760</td>\n",
       "      <td>5.257240</td>\n",
       "      <td>28.835228</td>\n",
       "      <td>-4.575228</td>\n",
       "    </tr>\n",
       "    <tr>\n",
       "      <th>46</th>\n",
       "      <td>23.80</td>\n",
       "      <td>17</td>\n",
       "      <td>33</td>\n",
       "      <td>1089.0</td>\n",
       "      <td>24.621856</td>\n",
       "      <td>24.893644</td>\n",
       "      <td>-1.093644</td>\n",
       "      <td>29.340825</td>\n",
       "      <td>-5.540825</td>\n",
       "    </tr>\n",
       "    <tr>\n",
       "      <th>18</th>\n",
       "      <td>23.92</td>\n",
       "      <td>16</td>\n",
       "      <td>74</td>\n",
       "      <td>5476.0</td>\n",
       "      <td>20.579633</td>\n",
       "      <td>20.403084</td>\n",
       "      <td>3.516916</td>\n",
       "      <td>24.319881</td>\n",
       "      <td>-0.399881</td>\n",
       "    </tr>\n",
       "    <tr>\n",
       "      <th>22</th>\n",
       "      <td>25.67</td>\n",
       "      <td>12</td>\n",
       "      <td>37</td>\n",
       "      <td>1369.0</td>\n",
       "      <td>26.793657</td>\n",
       "      <td>27.010462</td>\n",
       "      <td>-1.340462</td>\n",
       "      <td>24.377394</td>\n",
       "      <td>1.292606</td>\n",
       "    </tr>\n",
       "  </tbody>\n",
       "</table>\n",
       "</div>"
      ],
      "text/plain": [
       "     Wage  Educ  Age  agePower2  predictedWage3  predictedTest     error  \\\n",
       "56  10.03     9   22      484.0       15.788477      16.224000 -6.194000   \n",
       "64  18.28     8   70     4900.0       23.540161      23.396109 -5.116109   \n",
       "15  30.48    17   41     1681.0       28.410612      28.574865  1.905135   \n",
       "54  33.70    18   62     3844.0       27.796677      27.724913  5.975087   \n",
       "8   25.60    15   54     2916.0       29.833807      29.844055 -4.244055   \n",
       "21  28.33    16   66     4356.0       25.945842      25.836719  2.493281   \n",
       "45  26.04    17   36     1296.0       26.302724      26.533046 -0.493046   \n",
       "29  16.97     9   32     1024.0       23.992211      24.278124 -7.308124   \n",
       "44  24.26    20   25      625.0       18.613715      19.002760  5.257240   \n",
       "46  23.80    17   33     1089.0       24.621856      24.893644 -1.093644   \n",
       "18  23.92    16   74     5476.0       20.579633      20.403084  3.516916   \n",
       "22  25.67    12   37     1369.0       26.793657      27.010462 -1.340462   \n",
       "\n",
       "    predictedTest2    error2  \n",
       "56       12.329347 -2.299347  \n",
       "64       16.151010  2.128990  \n",
       "15       32.091319 -1.611319  \n",
       "54       32.605925  1.094075  \n",
       "8        30.348106 -4.748106  \n",
       "21       28.518606 -0.188606  \n",
       "45       30.569681 -4.529681  \n",
       "29       18.399744 -1.429744  \n",
       "44       28.835228 -4.575228  \n",
       "46       29.340825 -5.540825  \n",
       "18       24.319881 -0.399881  \n",
       "22       24.377394  1.292606  "
      ]
     },
     "execution_count": 76,
     "metadata": {},
     "output_type": "execute_result"
    }
   ],
   "source": [
    "predictedTest2 = trainModel2Fit.predict(wageModel5Transformer(testSet))\n",
    "testSet['predictedTest2'] = predictedTest2\n",
    "testSet['error2']  = testSet['Wage'] - testSet['predictedTest2']\n",
    "testSet\n"
   ]
  },
  {
   "cell_type": "code",
   "execution_count": 77,
   "metadata": {
    "id": "_OuPA5wMCtAl"
   },
   "outputs": [
    {
     "data": {
      "image/png": "[encoded data removed]",
      "text/plain": [
       "<Figure size 640x480 with 1 Axes>"
      ]
     },
     "metadata": {},
     "output_type": "display_data"
    }
   ],
   "source": [
    "# Plot errors\n",
    "plt.scatter(range(len(testSet['error'])), testSet['error'])\n",
    "plt.scatter(range(len(testSet['error2'])), testSet['error2'])\n",
    "plt.axhline(y=0, color='r', linestyle='-')\n",
    "plt.xlabel('Index')\n",
    "plt.ylabel('Error')\n",
    "plt.title('Error Plot')\n",
    "plt.show()\n"
   ]
  },
  {
   "cell_type": "code",
   "execution_count": 78,
   "metadata": {
    "id": "F7rufvHzC6o1"
   },
   "outputs": [
    {
     "name": "stdout",
     "output_type": "stream",
     "text": [
      "RMSE: 4.32773809069627\n",
      "RMSE2: 3.0580410558204147\n"
     ]
    }
   ],
   "source": [
    "rmse2 = np.sqrt(mean_squared_error(testSet['Wage'], testSet['predictedTest2']))\n",
    "print(\"RMSE:\", rmse)\n",
    "print(\"RMSE2:\", rmse2)"
   ]
  },
  {
   "cell_type": "code",
   "execution_count": 79,
   "metadata": {
    "id": "9dljGpMDDE_O"
   },
   "outputs": [
    {
     "name": "stdout",
     "output_type": "stream",
     "text": [
      "RMSE with respect to mean of train set wage: 6.0668736228436115\n"
     ]
    }
   ],
   "source": [
    "print(\"RMSE with respect to mean of train set wage:\", rmseMean)"
   ]
  },
  {
   "cell_type": "code",
   "execution_count": 80,
   "metadata": {},
   "outputs": [],
   "source": [
    "wage1SampleData = {\n",
    "    \"Educ\": [12],\n",
    "    \"Age\": [76]\n",
    "}"
   ]
  },
  {
   "cell_type": "code",
   "execution_count": 81,
   "metadata": {},
   "outputs": [],
   "source": [
    "def generalRegressionPredictor(self, transformedData):\n",
    "    return self.predict(transformedData)"
   ]
  },
  {
   "cell_type": "code",
   "execution_count": 82,
   "metadata": {},
   "outputs": [
    {
     "name": "stdout",
     "output_type": "stream",
     "text": [
      "✅ Uploaded encrypted ZIP to s3://273-g5/silin_huang__to_predictModelBest__1.0.1.pkl.zip\n"
     ]
    },
    {
     "data": {
      "text/plain": [
       "{'_id': '687001e84448f67b7bf15922',\n",
       " 'modelName': 'silin_huang__to_predictModelBest',\n",
       " 'version': '1.0.1',\n",
       " 'params': {'const': -22.079821545226846,\n",
       "  'Educ': 1.3098520185095701,\n",
       "  'Age': 1.3177553452799893,\n",
       "  'agePower2': -0.013161399815951508},\n",
       " 'score': -3.0580410558204147,\n",
       " 'modelLibraray': 'sm.OLS',\n",
       " 'libraryMetadata': {'pvalues': {'const': 5.4166948788966946e-09,\n",
       "   'Educ': 4.121302878434484e-20,\n",
       "   'Age': 3.2440162637867687e-13,\n",
       "   'agePower2': 4.4780345125867863e-13},\n",
       "  'r_squared': 0.8375125244227513,\n",
       "  'adj_r_squared': 0.8298959240050677},\n",
       " 'sampleData': {'dataForTransfer': {'Educ': [12], 'Age': [76]}},\n",
       " 'modelType': 'model',\n",
       " 'keepLastOnly': False,\n",
       " 'modelSizeBytes': 15612,\n",
       " 'zippedModelSizeBytes': 6884,\n",
       " 's3Url': '273-g5/silin_huang__to_predictModelBest__1.0.1.pkl.zip',\n",
       " 'createdAt': '2025-07-10T18:09:44.316Z',\n",
       " 'updatedAt': '2025-07-10T18:09:44.316Z'}"
      ]
     },
     "execution_count": 82,
     "metadata": {},
     "output_type": "execute_result"
    }
   ],
   "source": [
    "trainModel2Fit.transformer = wageModel5Transformer\n",
    "trainModel2Fit.mainPredictor = partial(generalRegressionPredictor, trainModel2Fit)\n",
    "registerAJrjModel(\n",
    "    trainModel2Fit,\n",
    "    {\n",
    "        \"modelName\":f\"silin_huang__to_predictModelBest\",\n",
    "        \"version\":\"1.0.1\",\n",
    "        \"params\": trainModel2Fit.params.to_dict(),\n",
    "        \"score\": -1 * rmse2,\n",
    "        \"modelLibraray\": 'sm.OLS',\n",
    "        \"libraryMetadata\": {\n",
    "            \"pvalues\": trainModel2Fit.pvalues.to_dict(),\n",
    "            \"r_squared\": float(trainModel2Fit.rsquared),\n",
    "            \"adj_r_squared\": float(trainModel2Fit.rsquared_adj)\n",
    "        },\n",
    "    \n",
    "        \"sampleData\": {\n",
    "            \"dataForTransfer\": wage1SampleData\n",
    "        }\n",
    "    }\n",
    ")"
   ]
  },
  {
   "cell_type": "markdown",
   "metadata": {
    "id": "JZWdvpAyGOvr"
   },
   "source": [
    "# K-Fold Cross validation"
   ]
  },
  {
   "cell_type": "code",
   "execution_count": 84,
   "metadata": {
    "id": "axfSIZSrGODF"
   },
   "outputs": [],
   "source": [
    "from sklearn.model_selection import KFold"
   ]
  },
  {
   "cell_type": "code",
   "execution_count": 85,
   "metadata": {
    "id": "koiuVlcKGWxp"
   },
   "outputs": [],
   "source": [
    "# Initialize KFold\n",
    "kf = KFold(n_splits=5, shuffle=True, random_state=55)\n"
   ]
  },
  {
   "cell_type": "code",
   "execution_count": 86,
   "metadata": {
    "id": "ZlKyoUVrG27y"
   },
   "outputs": [
    {
     "name": "stdout",
     "output_type": "stream",
     "text": [
      "expr=1\n",
      "                            OLS Regression Results                            \n",
      "==============================================================================\n",
      "Dep. Variable:                   Wage   R-squared:                       0.819\n",
      "Model:                            OLS   Adj. R-squared:                  0.810\n",
      "Method:                 Least Squares   F-statistic:                     90.36\n",
      "Date:                Fri, 11 Jul 2025   Prob (F-statistic):           3.17e-22\n",
      "Time:                        02:09:44   Log-Likelihood:                -164.45\n",
      "No. Observations:                  64   AIC:                             336.9\n",
      "Df Residuals:                      60   BIC:                             345.5\n",
      "Df Model:                           3                                         \n",
      "Covariance Type:            nonrobust                                         \n",
      "==============================================================================\n",
      "                 coef    std err          t      P>|t|      [0.025      0.975]\n",
      "------------------------------------------------------------------------------\n",
      "const        -22.0026      3.647     -6.033      0.000     -29.298     -14.707\n",
      "Educ           1.2563      0.106     11.872      0.000       1.045       1.468\n",
      "Age            1.3252      0.155      8.523      0.000       1.014       1.636\n",
      "agePower2     -0.0132      0.002     -8.539      0.000      -0.016      -0.010\n",
      "==============================================================================\n",
      "Omnibus:                        2.624   Durbin-Watson:                   1.726\n",
      "Prob(Omnibus):                  0.269   Jarque-Bera (JB):                2.043\n",
      "Skew:                           0.133   Prob(JB):                        0.360\n",
      "Kurtosis:                       3.834   Cond. No.                     2.96e+04\n",
      "==============================================================================\n",
      "\n",
      "Notes:\n",
      "[1] Standard Errors assume that the covariance matrix of the errors is correctly specified.\n",
      "[2] The condition number is large, 2.96e+04. This might indicate that there are\n",
      "strong multicollinearity or other numerical problems.\n",
      "expr=2\n",
      "                            OLS Regression Results                            \n",
      "==============================================================================\n",
      "Dep. Variable:                   Wage   R-squared:                       0.822\n",
      "Model:                            OLS   Adj. R-squared:                  0.813\n",
      "Method:                 Least Squares   F-statistic:                     92.21\n",
      "Date:                Fri, 11 Jul 2025   Prob (F-statistic):           1.93e-22\n",
      "Time:                        02:09:44   Log-Likelihood:                -162.93\n",
      "No. Observations:                  64   AIC:                             333.9\n",
      "Df Residuals:                      60   BIC:                             342.5\n",
      "Df Model:                           3                                         \n",
      "Covariance Type:            nonrobust                                         \n",
      "==============================================================================\n",
      "                 coef    std err          t      P>|t|      [0.025      0.975]\n",
      "------------------------------------------------------------------------------\n",
      "const        -22.2343      3.823     -5.815      0.000     -29.882     -14.586\n",
      "Educ           1.2945      0.101     12.780      0.000       1.092       1.497\n",
      "Age            1.3107      0.166      7.885      0.000       0.978       1.643\n",
      "agePower2     -0.0129      0.002     -7.837      0.000      -0.016      -0.010\n",
      "==============================================================================\n",
      "Omnibus:                        4.762   Durbin-Watson:                   1.860\n",
      "Prob(Omnibus):                  0.092   Jarque-Bera (JB):                5.454\n",
      "Skew:                          -0.200   Prob(JB):                       0.0654\n",
      "Kurtosis:                       4.373   Cond. No.                     3.23e+04\n",
      "==============================================================================\n",
      "\n",
      "Notes:\n",
      "[1] Standard Errors assume that the covariance matrix of the errors is correctly specified.\n",
      "[2] The condition number is large, 3.23e+04. This might indicate that there are\n",
      "strong multicollinearity or other numerical problems.\n",
      "expr=3\n",
      "                            OLS Regression Results                            \n",
      "==============================================================================\n",
      "Dep. Variable:                   Wage   R-squared:                       0.829\n",
      "Model:                            OLS   Adj. R-squared:                  0.820\n",
      "Method:                 Least Squares   F-statistic:                     96.62\n",
      "Date:                Fri, 11 Jul 2025   Prob (F-statistic):           6.09e-23\n",
      "Time:                        02:09:44   Log-Likelihood:                -162.82\n",
      "No. Observations:                  64   AIC:                             333.6\n",
      "Df Residuals:                      60   BIC:                             342.3\n",
      "Df Model:                           3                                         \n",
      "Covariance Type:            nonrobust                                         \n",
      "==============================================================================\n",
      "                 coef    std err          t      P>|t|      [0.025      0.975]\n",
      "------------------------------------------------------------------------------\n",
      "const        -21.1580      3.234     -6.542      0.000     -27.627     -14.689\n",
      "Educ           1.2544      0.102     12.325      0.000       1.051       1.458\n",
      "Age            1.2767      0.144      8.866      0.000       0.989       1.565\n",
      "agePower2     -0.0127      0.001     -8.646      0.000      -0.016      -0.010\n",
      "==============================================================================\n",
      "Omnibus:                        2.076   Durbin-Watson:                   1.529\n",
      "Prob(Omnibus):                  0.354   Jarque-Bera (JB):                1.444\n",
      "Skew:                          -0.025   Prob(JB):                        0.486\n",
      "Kurtosis:                       3.734   Cond. No.                     2.60e+04\n",
      "==============================================================================\n",
      "\n",
      "Notes:\n",
      "[1] Standard Errors assume that the covariance matrix of the errors is correctly specified.\n",
      "[2] The condition number is large, 2.6e+04. This might indicate that there are\n",
      "strong multicollinearity or other numerical problems.\n",
      "expr=4\n",
      "                            OLS Regression Results                            \n",
      "==============================================================================\n",
      "Dep. Variable:                   Wage   R-squared:                       0.854\n",
      "Model:                            OLS   Adj. R-squared:                  0.847\n",
      "Method:                 Least Squares   F-statistic:                     117.0\n",
      "Date:                Fri, 11 Jul 2025   Prob (F-statistic):           4.96e-25\n",
      "Time:                        02:09:44   Log-Likelihood:                -158.44\n",
      "No. Observations:                  64   AIC:                             324.9\n",
      "Df Residuals:                      60   BIC:                             333.5\n",
      "Df Model:                           3                                         \n",
      "Covariance Type:            nonrobust                                         \n",
      "==============================================================================\n",
      "                 coef    std err          t      P>|t|      [0.025      0.975]\n",
      "------------------------------------------------------------------------------\n",
      "const        -24.0211      3.270     -7.346      0.000     -30.562     -17.480\n",
      "Educ           1.2068      0.094     12.846      0.000       1.019       1.395\n",
      "Age            1.4206      0.149      9.517      0.000       1.122       1.719\n",
      "agePower2     -0.0139      0.002     -9.120      0.000      -0.017      -0.011\n",
      "==============================================================================\n",
      "Omnibus:                        2.817   Durbin-Watson:                   1.506\n",
      "Prob(Omnibus):                  0.245   Jarque-Bera (JB):                2.140\n",
      "Skew:                           0.213   Prob(JB):                        0.343\n",
      "Kurtosis:                       3.788   Cond. No.                     2.69e+04\n",
      "==============================================================================\n",
      "\n",
      "Notes:\n",
      "[1] Standard Errors assume that the covariance matrix of the errors is correctly specified.\n",
      "[2] The condition number is large, 2.69e+04. This might indicate that there are\n",
      "strong multicollinearity or other numerical problems.\n",
      "expr=5\n",
      "                            OLS Regression Results                            \n",
      "==============================================================================\n",
      "Dep. Variable:                   Wage   R-squared:                       0.844\n",
      "Model:                            OLS   Adj. R-squared:                  0.836\n",
      "Method:                 Least Squares   F-statistic:                     108.4\n",
      "Date:                Fri, 11 Jul 2025   Prob (F-statistic):           3.40e-24\n",
      "Time:                        02:09:44   Log-Likelihood:                -159.67\n",
      "No. Observations:                  64   AIC:                             327.3\n",
      "Df Residuals:                      60   BIC:                             336.0\n",
      "Df Model:                           3                                         \n",
      "Covariance Type:            nonrobust                                         \n",
      "==============================================================================\n",
      "                 coef    std err          t      P>|t|      [0.025      0.975]\n",
      "------------------------------------------------------------------------------\n",
      "const        -24.1496      3.166     -7.627      0.000     -30.483     -17.816\n",
      "Educ           1.2623      0.100     12.629      0.000       1.062       1.462\n",
      "Age            1.4158      0.143      9.935      0.000       1.131       1.701\n",
      "agePower2     -0.0139      0.001     -9.517      0.000      -0.017      -0.011\n",
      "==============================================================================\n",
      "Omnibus:                        2.105   Durbin-Watson:                   1.881\n",
      "Prob(Omnibus):                  0.349   Jarque-Bera (JB):                1.480\n",
      "Skew:                          -0.011   Prob(JB):                        0.477\n",
      "Kurtosis:                       3.745   Cond. No.                     2.66e+04\n",
      "==============================================================================\n",
      "\n",
      "Notes:\n",
      "[1] Standard Errors assume that the covariance matrix of the errors is correctly specified.\n",
      "[2] The condition number is large, 2.66e+04. This might indicate that there are\n",
      "strong multicollinearity or other numerical problems.\n"
     ]
    }
   ],
   "source": [
    "check = kf.split(wagesDf)\n",
    "check\n",
    "experiment = 1\n",
    "# Loop through each fold\n",
    "# Initialize variables to store results\n",
    "bestModel = None\n",
    "bestMse = 100000\n",
    "mseScores = []\n",
    "meanMseScores = []\n",
    "\n",
    "for train_index, val_index in check:\n",
    "    # Split the data\n",
    "    trainSet, valSet = wagesDf.iloc[train_index], wagesDf.iloc[val_index]\n",
    "\n",
    "    # Fit the model\n",
    "    trainModel = sm.OLS(trainSet[\"Wage\"], wageModel5Transformer(trainSet))\n",
    "    trainModelFit = trainModel.fit()\n",
    "\n",
    "    # Predict on the validation set\n",
    "    val_predictions = trainModelFit.predict(wageModel5Transformer(valSet))\n",
    "\n",
    "    # Calculate the mean squared error\n",
    "    mse = mean_squared_error(valSet[\"Wage\"], val_predictions)\n",
    "    meanMse = mean_squared_error(valSet[\"Wage\"], [np.mean(valSet[\"Wage\"])] * len(valSet[\"Wage\"]))\n",
    "    mseScores.append(mse)\n",
    "    meanMseScores.append(meanMse)\n",
    "    if mse < bestMse:\n",
    "        bestMse = mse\n",
    "        bestModel = trainModelFit\n",
    "\n",
    "    # Print summary for each fold (optional)\n",
    "    print(f'expr={experiment}')\n",
    "    experiment = experiment +1\n",
    "    print(trainModelFit.summary())"
   ]
  },
  {
   "cell_type": "code",
   "execution_count": 87,
   "metadata": {
    "id": "z2R-1rXRHjGO"
   },
   "outputs": [
    {
     "data": {
      "text/plain": [
       "([6.751997916005097,\n",
       "  8.529635813567424,\n",
       "  8.881925739787727,\n",
       "  13.7625687625235,\n",
       "  12.465021965301913],\n",
       " [52.485627734375,\n",
       "  62.33071210937499,\n",
       "  51.530637500000005,\n",
       "  48.84937500000001,\n",
       "  53.6658859375])"
      ]
     },
     "execution_count": 87,
     "metadata": {},
     "output_type": "execute_result"
    }
   ],
   "source": [
    "mseScores,meanMseScores"
   ]
  },
  {
   "cell_type": "code",
   "execution_count": null,
   "metadata": {
    "id": "-qZTt_tCJqha"
   },
   "outputs": [],
   "source": []
  },
  {
   "cell_type": "code",
   "execution_count": 88,
   "metadata": {
    "id": "mCPzVffBJjaG"
   },
   "outputs": [
    {
     "data": {
      "text/plain": [
       "(array([2.59846068, 2.92055403, 2.98025599, 3.70979363, 3.5305838 ]),\n",
       " array([7.24469652, 7.89498018, 7.17848435, 6.98923279, 7.32570037]))"
      ]
     },
     "execution_count": 88,
     "metadata": {},
     "output_type": "execute_result"
    }
   ],
   "source": [
    "rmseScores = np.sqrt(mseScores)\n",
    "rmeanMseScores = np.sqrt(meanMseScores)\n",
    "rmseScores,rmeanMseScores"
   ]
  },
  {
   "cell_type": "code",
   "execution_count": 89,
   "metadata": {
    "id": "7NCXJ2WhHeWA"
   },
   "outputs": [
    {
     "name": "stdout",
     "output_type": "stream",
     "text": [
      "Average MSE across all folds: 10.078230039437132\n",
      "Average MSE Mean across all folds: 53.77244765625001\n",
      "Average RMSE across all folds: 3.174622818452159\n",
      "Average RMSE Mean across all folds: 7.332969906951072\n"
     ]
    }
   ],
   "source": [
    "# Calculate average MSE\n",
    "averageMse = sum(mseScores) / len(mseScores)\n",
    "averageMseMean = sum(meanMseScores) / len(mseScores)\n",
    "print(f\"Average MSE across all folds: {averageMse}\")\n",
    "print(f\"Average MSE Mean across all folds: {averageMseMean}\")\n",
    "print(f\"Average RMSE across all folds: {pow(averageMse, 0.5)}\")\n",
    "print(f\"Average RMSE Mean across all folds: {pow(averageMseMean, 0.5)}\")"
   ]
  },
  {
   "cell_type": "code",
   "execution_count": null,
   "metadata": {},
   "outputs": [],
   "source": []
  },
  {
   "cell_type": "code",
   "execution_count": 90,
   "metadata": {},
   "outputs": [
    {
     "name": "stdout",
     "output_type": "stream",
     "text": [
      "✅ Uploaded encrypted ZIP to s3://273-g5/silin_huang__to_predictModelBestCrossValidation__1.0.1.pkl.zip\n"
     ]
    },
    {
     "data": {
      "text/plain": [
       "{'_id': '687001ea4448f67b7bf15923',\n",
       " 'modelName': 'silin_huang__to_predictModelBestCrossValidation',\n",
       " 'version': '1.0.1',\n",
       " 'params': {'const': -22.00260715001659,\n",
       "  'Educ': 1.256268559063731,\n",
       "  'Age': 1.3251893006023447,\n",
       "  'agePower2': -0.013203600186934485},\n",
       " 'score': -6.751997916005097,\n",
       " 'modelLibraray': 'sm.OLS',\n",
       " 'libraryMetadata': {'pvalues': {'const': 1.084062113805249e-07,\n",
       "   'Educ': 2.1775171638051588e-17,\n",
       "   'Age': 6.3024463713708464e-12,\n",
       "   'agePower2': 5.936545734844167e-12},\n",
       "  'r_squared': 0.8187729748856507,\n",
       "  'adj_r_squared': 0.8097116236299332},\n",
       " 'sampleData': {'dataForTransfer': {'Educ': [12], 'Age': [76]}},\n",
       " 'modelType': 'model',\n",
       " 'keepLastOnly': False,\n",
       " 'modelSizeBytes': 15036,\n",
       " 'zippedModelSizeBytes': 6515,\n",
       " 's3Url': '273-g5/silin_huang__to_predictModelBestCrossValidation__1.0.1.pkl.zip',\n",
       " 'createdAt': '2025-07-10T18:09:46.091Z',\n",
       " 'updatedAt': '2025-07-10T18:09:46.091Z'}"
      ]
     },
     "execution_count": 90,
     "metadata": {},
     "output_type": "execute_result"
    }
   ],
   "source": [
    "bestModel.transformer = wageModel5Transformer\n",
    "bestModel.mainPredictor = partial(generalRegressionPredictor, bestModel)\n",
    "registerAJrjModel(\n",
    "    bestModel,\n",
    "    {\n",
    "        \"modelName\":f\"silin_huang__to_predictModelBestCrossValidation\",\n",
    "        \"version\":\"1.0.1\",\n",
    "        \"params\": bestModel.params.to_dict(),\n",
    "        \"score\": -1 * bestMse,\n",
    "        \"modelLibraray\": 'sm.OLS',\n",
    "        \"libraryMetadata\": {\n",
    "            \"pvalues\": bestModel.pvalues.to_dict(),\n",
    "            \"r_squared\": float(bestModel.rsquared),\n",
    "            \"adj_r_squared\": float(bestModel.rsquared_adj)\n",
    "        },\n",
    "    \n",
    "        \"sampleData\": {\n",
    "            \"dataForTransfer\": wage1SampleData\n",
    "        }\n",
    "    }\n",
    ")"
   ]
  },
  {
   "cell_type": "code",
   "execution_count": null,
   "metadata": {},
   "outputs": [],
   "source": []
  }
 ],
 "metadata": {
  "colab": {
   "provenance": []
  },
  "kernelspec": {
   "display_name": "Python 3 (ipykernel)",
   "language": "python",
   "name": "python3"
  },
  "language_info": {
   "codemirror_mode": {
    "name": "ipython",
    "version": 3
   },
   "file_extension": ".py",
   "mimetype": "text/x-python",
   "name": "python",
   "nbconvert_exporter": "python",
   "pygments_lexer": "ipython3",
   "version": "3.12.2"
  }
 },
 "nbformat": 4,
 "nbformat_minor": 4
}
